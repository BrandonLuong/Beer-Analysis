{
 "cells": [
  {
   "cell_type": "markdown",
   "metadata": {},
   "source": [
    "# COGS 108 - Data Checkpoint"
   ]
  },
  {
   "cell_type": "markdown",
   "metadata": {},
   "source": [
    "# Names\n",
    "\n",
    "- Brandon Luong\n",
    "- Noel Molina\n",
    "- Margarita Leonova\n",
    "- Tatiana Bimatova\n",
    "- Huy Le"
   ]
  },
  {
   "cell_type": "markdown",
   "metadata": {},
   "source": [
    "# Updated Project Proposal"
   ]
  },
  {
   "cell_type": "markdown",
   "metadata": {},
   "source": [
    "# Research Question\n",
    "What characteristics of beer (flavors like bitter/sweet/sour/spicy etc.; alcohol percentage; color) influence the rating of beer (Plainly speaking, what kind of beer do people like more)?"
   ]
  },
  {
   "cell_type": "markdown",
   "metadata": {},
   "source": [
    "# Background and Prior Work\n",
    "Beer is the most popular alcoholic drink in the world. Even if we take into consideration all drinks, beer is second only (!) to tea and water [^wiki].\n",
    "\n",
    "Beer is an alcoholic beverage created from combining 4 main ingredients: water, malt, hops and yeast. The alcohol content in beer is created through yeast fermentation. Depending on the fermentation process, beer will be classified as ale or lager. Under these categories are more specific styles, such as pale ale, India pale ale (IPA), stouts, etc. [^wiki].\n",
    "\n",
    "Several beer rating websites show that stouts (namely the ones with higher alcohol percentage of 10% and more) tend to have very high consumer ratings. \n",
    "\n",
    "Recent research [^manikas] suggests that higher ABV (alcohol by volume) correlated significantly and positively with higher consumer ratings while the higher length of a review correlated negatively with the rating score. \n",
    "\n",
    "Another research [^janish] supports the relationship between a higher ABV and consumer rating.\n",
    "\n",
    "In a “A genome-wide association study of bitter and sweet beverage consumption” [^zhong], the authors found that people’s “taste preferences for bitter or sweet beverages aren't based on variations in our taste genes, but rather genes related to the psychoactive properties of these beverages”. In other words, people like bitter beverages not for their taste, but for the effect these beverages have on us.\n",
    "\n",
    "However we were not able to find a research that shows correlation between beer flavor and color characteristics and higher ratings.\n",
    "\n",
    "-------------------------------------------------------------------------------------------\n",
    "\n",
    "[^wiki]: Beer. https://en.wikipedia.org/wiki/Beer\n",
    "\n",
    "[^manikas]: Andrew Manikas, Michael Godfrey and Jason Woldt. (2022) What drives higher beer ratings? Evidence from Big Data. *Econpapers*. https://econpapers.repec.org/article/ibfijmmre/v_3a15_3ay_3a2022_3ai_3a1_3ap_3a1-13.htm\n",
    "\n",
    "[^janish]: Scott Janish. Relationship of ABV to Beer Scores. *http://scottjanish.com/*. http://scottjanish.com/relationship-of-abv-to-beer-scores/\n",
    "\n",
    "[^zhong]: Victor W Zhong, Alan Kuang, Rebecca D Danning, Peter Kraft, Rob M van Dam, Daniel I Chasman, Marilyn C Cornelis. (02 May 2019) A genome-wide association study of bitter and sweet beverage consumption. *Human Molecular Genetics*. https://academic.oup.com/hmg/article/28/14/2449/5424254"
   ]
  },
  {
   "cell_type": "markdown",
   "metadata": {},
   "source": [
    "# Hypothesis\n",
    "According to the Beer Advocate and Untappd ratings, the majority of the top rated beers are stouts. Therefore, we hypothesize that characteristics like higher alcohol percentage (10% and more), bitter-sweet taste and dark color contribute the most to the higher rating.\n",
    "\n",
    "Sources:\n",
    "\n",
    "https://www.beeradvocate.com/beer/top-rated/us/\n",
    "\n",
    "https://untappd.com/beer/top_rated"
   ]
  },
  {
   "cell_type": "markdown",
   "metadata": {},
   "source": [
    "# Data\n",
    "Our ideal dataset would include beer name, its type and rating. We also want characteristics of the beer, such as ABV, flavor characteristics, color.\n",
    "\n",
    "We think that internet scraping won’t be suitable for our purposes. We want a dataset that comes from a large poll or a rating resource like Untappd or BeerAdvocate. These resources provide hundreds of customer reviews as well as beer characteristics.\n",
    "\n",
    "Our observation would be a single customer review with a beer rating. We want the most recent data we can find because we’re not much interested in what people liked a long time ago.\n",
    "\n",
    "\n",
    "Here are some real datasets we could potentially use:\n",
    "\n",
    "https://www.kaggle.com/datasets/jailenbailey/untappd-beer-data?resource=download (Untappd beer data)\n",
    "\n",
    "https://www.kaggle.com/datasets/rdoume/beerreviews (Beer reviews)\n",
    "\n",
    "\n",
    "Untappd beer data contain beer name, style, and brewing company. Each beer listed has their alcohol content and measure of bitterness displayed. Additionally, there are comments from consumers detailing what they like about a specific beer or what their overall review was.\n",
    "\n",
    "\n",
    "Beer reviews contain the type of beer (labeled as beer style) and its brewing company. There are numeric ratings (on a scale of 1-5) for beer aroma, taste, appearance, and overall final score of beer. \n",
    "\n",
    "\n",
    "These datasets contain both beer style and brewing company. However, Untapped beer data gives qualitative information regarding beer likes as it contains comments from consumers about the beer they tasted. Meanwhile, Beer reviews contain quantitative data on beer characteristics as consumers rated aroma, taste, and appearance on a numeric scale. \n"
   ]
  },
  {
   "cell_type": "markdown",
   "metadata": {},
   "source": [
    "# Ethics & Privacy\n",
    "Our potential dataset (Untappd and BeerAdvocates) does not include any personal identifiable information. If we collect more data with personally identifiable information, we will disregard the sensitive information, such as a person’s name, in our report. It does contain anonymous comments about the beer. Since these comments are anonymous, their privacy is protected. \n",
    "\n",
    "Both of the companies the data is coming from are not affiliated with any beer companies, so we don’t have any evidence of them being biased.\n",
    "\n",
    "We will make inferences from the results obtained from the experiment and not based on our hypothesis.\n",
    "\n",
    "Beer is an alcoholic beverage. So, to purchase it, individuals are verified to ensure they are of age. Our dataset gathers information from individuals that are legally allowed to purchase beer. \n"
   ]
  },
  {
   "cell_type": "markdown",
   "metadata": {},
   "source": [
    "# Team Expectations\n",
    "- Communicate through discord and zoom (messaging) and during in person group meetings\n",
    "- Divide up work equally and do one’s part \n",
    "- Make regular check ups on work progress \n",
    "- Make sure that each member has an understanding of the project and section\n",
    "- Reach out to group members, TAs, and professor if you need any help\n",
    "- If any members are uncooperative try to reach out and discuss possible solutions\n"
   ]
  },
  {
   "cell_type": "markdown",
   "metadata": {},
   "source": [
    "# Project Timeline Proposal\n",
    "\n",
    "| Meeting Date  | Meeting Time| Completed Before Meeting  | Discuss at Meeting |\n",
    "|---|---|---|---|\n",
    "| 10/14  |  1 PM | Read & Think about COGS 108 expectations; brainstorm topics/questions  | Determine best form of communication; Discuss and decide on final project topic; discuss hypothesis; begin background research | \n",
    "| 10/21  |  12 PM |  Do background research on topic | Discuss ideal dataset(s) and ethics; draft project proposal | \n",
    "| 10/24  | 12 PM  | Edit, finalize, and submit proposal; Search for datasets  | Discuss Wrangling and possible analytical approaches; Assign group members to lead each specific part   |\n",
    "| 11/4  | 12 PM  | Import & Wrangle Data; EDA | Review/Edit wrangling/EDA; Discuss Analysis Plan   |\n",
    "| 11/18  | 12 PM  | Finalize wrangling/EDA; Begin Analysis | Discuss/edit Analysis; Complete project check-in |\n",
    "| 12/5  | 12 PM  | Complete analysis; Draft results/conclusion/discussion| Discuss/edit full project |\n",
    "| 12/9  | Before 11:59 PM  | NA | Turn in Final Project & Group Project Surveys |"
   ]
  },
  {
   "cell_type": "markdown",
   "metadata": {},
   "source": [
    "#\n"
   ]
  },
  {
   "cell_type": "markdown",
   "metadata": {},
   "source": [
    "# Data Checkpoint"
   ]
  },
  {
   "cell_type": "markdown",
   "metadata": {},
   "source": [
    "<a id='research_question'></a>\n",
    "# Research Question"
   ]
  },
  {
   "cell_type": "markdown",
   "metadata": {},
   "source": [
    "What characteristics of beer (flavors like bitter/sweet/sour/spicy etc.; alcohol percentage; color) influence the rating of beer (Plainly speaking, what kind of beer do people like more)?"
   ]
  },
  {
   "cell_type": "markdown",
   "metadata": {},
   "source": [
    "# Dataset(s)"
   ]
  },
  {
   "cell_type": "markdown",
   "metadata": {},
   "source": [
    "*Fill in your dataset information here*\n",
    "\n",
    "(Copy this information for each dataset)\n",
    "- Dataset Name:\n",
    "- Link to the dataset:\n",
    "- Number of observations:\n",
    "\n",
    "1-2 sentences describing each dataset. \n",
    "\n",
    "If you plan to use multiple datasets, add 1-2 sentences about how you plan to combine these datasets."
   ]
  },
  {
   "cell_type": "markdown",
   "metadata": {},
   "source": [
    "# Setup"
   ]
  },
  {
   "cell_type": "code",
   "execution_count": 1,
   "metadata": {},
   "outputs": [],
   "source": [
    "## YOUR CODE HERE"
   ]
  },
  {
   "cell_type": "markdown",
   "metadata": {},
   "source": [
    "# Data Cleaning"
   ]
  },
  {
   "cell_type": "markdown",
   "metadata": {},
   "source": [
    "Describe your data cleaning steps here."
   ]
  },
  {
   "cell_type": "code",
   "execution_count": 2,
   "metadata": {},
   "outputs": [],
   "source": [
    "## YOUR CODE HERE\n",
    "## FEEL FREE TO ADD MULTIPLE CELLS PER SECTION"
   ]
  }
 ],
 "metadata": {
  "kernelspec": {
   "display_name": "Python 3",
   "language": "python",
   "name": "python3"
  },
  "language_info": {
   "codemirror_mode": {
    "name": "ipython",
    "version": 3
   },
   "file_extension": ".py",
   "mimetype": "text/x-python",
   "name": "python",
   "nbconvert_exporter": "python",
   "pygments_lexer": "ipython3",
   "version": "3.7.9"
  }
 },
 "nbformat": 4,
 "nbformat_minor": 2
}
